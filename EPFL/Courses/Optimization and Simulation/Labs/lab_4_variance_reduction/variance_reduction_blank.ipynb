{
 "cells": [
  {
   "cell_type": "code",
   "execution_count": null,
   "metadata": {},
   "outputs": [],
   "source": [
    "import numpy as np\n",
    "import matplotlib.pyplot as plt\n",
    "np.random.seed(4711)"
   ]
  },
  {
   "cell_type": "markdown",
   "metadata": {},
   "source": [
    "# Queueing simulation with antithetic draws"
   ]
  },
  {
   "cell_type": "code",
   "execution_count": null,
   "metadata": {},
   "outputs": [],
   "source": [
    "def exponential_rng(lam, u):  \n",
    "    \"\"\" Generates exponential random number.\n",
    "    \n",
    "    Keywords:\n",
    "        lam (float): the rate parameter, the inverse expectation of the distribution.\n",
    "        u (float): Uniform random number.\n",
    "    \n",
    "    Returns:\n",
    "        exponential random number with given rate.\n",
    "    \"\"\"\n",
    "    ###\n",
    "    #ADD YOUR CODE HERE\n",
    "    ###"
   ]
  },
  {
   "cell_type": "code",
   "execution_count": null,
   "metadata": {},
   "outputs": [],
   "source": [
    "class Event:\n",
    "    \"\"\" Generic event.\n",
    "    \n",
    "    Attributes:\n",
    "        time (float): Event time.\n",
    "    \"\"\"\n",
    "    \n",
    "    def __init__(self, time):\n",
    "        self.time = time\n",
    "        \n",
    "class Generation(Event):\n",
    "    \"\"\" Generation event.\n",
    "    \n",
    "    Attributes:\n",
    "        time (float): Event time.\n",
    "    \"\"\"\n",
    "    def __init__(self, time):\n",
    "        super().__init__(time)\n",
    "        \n",
    "class Arrival(Event):\n",
    "    \"\"\" Arrival event.\n",
    "    \n",
    "    Attributes:\n",
    "        time (float): Event time.\n",
    "    \"\"\"\n",
    "    def __init__(self, time):\n",
    "        super().__init__(time)\n",
    "        \n",
    "class Departure(Event):\n",
    "    \"\"\" Departure event.\n",
    "    \n",
    "    Attributes:\n",
    "        time (float): Event time.\n",
    "    \"\"\"\n",
    "    def __init__(self, time):\n",
    "        super().__init__(time)\n",
    "        \n",
    "class Termination(Event):\n",
    "    \"\"\" Termination event.\n",
    "    \n",
    "    Attributes:\n",
    "        time (float): Event time.\n",
    "    \"\"\"\n",
    "    def __init__(self, time):\n",
    "        super().__init__(time)"
   ]
  },
  {
   "cell_type": "code",
   "execution_count": null,
   "metadata": {},
   "outputs": [],
   "source": [
    "class Scenario:\n",
    "    \"\"\" Road scenario\n",
    "    \n",
    "    Attributes:\n",
    "        demand duration (float): Duration of vehicle generation.\n",
    "        t0 (float): Free-flow travel time.\n",
    "        lam (float): Entry rate.\n",
    "        mu (float): Service rate.\n",
    "    \"\"\"\n",
    "    \n",
    "    def __init__(self, \n",
    "                 demand_duration=50.0,\n",
    "                 t0=1.0,\n",
    "                 lam=1.0,\n",
    "                 mu=1.0,\n",
    "                ):\n",
    "        self.demand_duration = demand_duration\n",
    "        self.t0 = t0\n",
    "        self.lam = lam\n",
    "        self.mu = mu"
   ]
  },
  {
   "cell_type": "code",
   "execution_count": null,
   "metadata": {},
   "outputs": [],
   "source": [
    "def simulate(scenario, u):\n",
    "    \"\"\" Implements the simulation procedure.\n",
    "    \n",
    "    Keywords:\n",
    "        scenario (Scenario): Road scenario.\n",
    "        u (array): 3 x N array of uniform random numbers, N must be sufficiently large.\n",
    "    \n",
    "    Returns:\n",
    "        times (list): Event times. \n",
    "        queues (list): Queue length over time. \n",
    "    \"\"\"\n",
    "    \n",
    "    ###\n",
    "    #ADD YOUR CODE HERE\n",
    "    ###\n",
    "        \n",
    "    return times, queues"
   ]
  },
  {
   "cell_type": "code",
   "execution_count": null,
   "metadata": {},
   "outputs": [],
   "source": [
    "def moving_mean_var(new_data, old_mean, old_var, i):\n",
    "    \"\"\" Calculates moving sameple mean and variance at time t-1.\n",
    "    \n",
    "    Keywords:\n",
    "        new_data (float): new data point arriving at time t-1.\n",
    "        old_mean (float): previous sample mean.\n",
    "        old_var (float): previous sample variance.\n",
    "        i (int): time index (i = t - 1).\n",
    "    \n",
    "    Returns:\n",
    "        new_mean (float): updated sample mean.\n",
    "        new_var (float): updated sample variance.\n",
    "    \"\"\"\n",
    "\n",
    "    ###\n",
    "    #ADD YOUR CODE HERE\n",
    "    ###"
   ]
  },
  {
   "cell_type": "markdown",
   "metadata": {},
   "source": [
    "### Independent runs"
   ]
  },
  {
   "cell_type": "code",
   "execution_count": null,
   "metadata": {},
   "outputs": [],
   "source": [
    "#Requested precision for the estimation of the average maximum queue length. \n",
    "#Empirically calculated such that approximately 100 simulation runs are necessary.\n",
    "precision = 0.5\n",
    "\n",
    "max_queue_mean = 0\n",
    "max_queue_var = 0\n",
    "max_queue_all = []\n",
    "max_queue_mean_all = []\n",
    "max_queue_var_all = []\n",
    "run = -1\n",
    "\n",
    "scenario = Scenario()\n",
    "\n",
    "#Main loop\n",
    "while True:\n",
    "    run += 1\n",
    "    \n",
    "    #Run simulation\n",
    "    u = np.random.rand(3,1000)\n",
    "    _, queues = simulate(scenario, u)\n",
    "    max_queue = max(queues)\n",
    "    \n",
    "    #Collect statistics\n",
    "    max_queue_mean, max_queue_var = moving_mean_var(max_queue, max_queue_mean, max_queue_var, run)\n",
    "    max_queue_all.append(max_queue)\n",
    "    max_queue_mean_all.append(max_queue_mean)\n",
    "    max_queue_var_all.append(max_queue_var)\n",
    "    \n",
    "    #Check if necessary precision reached\n",
    "    if run>=99 and np.sqrt(max_queue_var / (run+1)) < precision:\n",
    "        break\n",
    "        \n",
    "sd_independent = np.sqrt(max_queue_var_all)"
   ]
  },
  {
   "cell_type": "markdown",
   "metadata": {},
   "source": [
    "### Antithetic runs"
   ]
  },
  {
   "cell_type": "code",
   "execution_count": null,
   "metadata": {},
   "outputs": [],
   "source": [
    "max_queue_mean = 0\n",
    "max_queue_var = 0\n",
    "max_queue_all = []\n",
    "max_queue_mean_all = []\n",
    "max_queue_var_all = []\n",
    "scenario = Scenario()\n",
    "\n",
    "###\n",
    "#ADD YOUR CODE HERE\n",
    "###\n",
    "\n",
    "sd_antithetic = np.sqrt(max_queue_var_all)"
   ]
  },
  {
   "cell_type": "markdown",
   "metadata": {},
   "source": [
    "Plot the standard deviation of maximum queue length."
   ]
  },
  {
   "cell_type": "code",
   "execution_count": null,
   "metadata": {},
   "outputs": [],
   "source": [
    "fig = plt.figure()\n",
    "ax = plt.subplot(1,1,1)\n",
    "\n",
    "ax.plot(sd_independent, label='Std. dev. - independent runs')\n",
    "ax.plot(np.arange(0,sd_independent.shape[0],2), sd_antithetic, label='Std. dev. - antithetic runs')\n",
    "ax.set(title='Queue simulation',\n",
    "       xlabel='Epoch',\n",
    "       ylabel='Max. queue length')\n",
    "ax.legend()\n",
    "fig.savefig('figure_antithetic.pdf', dpi=300)\n",
    "plt.show()"
   ]
  },
  {
   "cell_type": "markdown",
   "metadata": {},
   "source": [
    "# Queueing simulation with control variates"
   ]
  },
  {
   "cell_type": "code",
   "execution_count": null,
   "metadata": {},
   "outputs": [],
   "source": [
    "def controlled_mean(x, y, mu):\n",
    "    \"\"\" Calculates the controlled mean.\n",
    "    \n",
    "    Keywords:\n",
    "        x (array): Data.\n",
    "        y (array): Control data.\n",
    "        mu (float): Scalar expectation of the control data.\n",
    "    \n",
    "    Returns:\n",
    "        avg (float): Controlled mean of the data.\n",
    "        var (float): Variance of the controlled mean.\n",
    "        z (array): Optimal linear combination of the data and the control data. \n",
    "    \"\"\"\n",
    "\n",
    "    ###\n",
    "    #ADD YOUR CODE HERE\n",
    "    ###\n",
    "    \n",
    "    return avg, var, z"
   ]
  },
  {
   "cell_type": "code",
   "execution_count": null,
   "metadata": {},
   "outputs": [],
   "source": [
    "def simulate(scenario):\n",
    "    \"\"\" Implements the simulation procedure.\n",
    "    \n",
    "    Keywords:\n",
    "        scenario (Scenario): Road scenario.\n",
    "    \n",
    "    Returns:\n",
    "        times (list): Event times. \n",
    "        queues (list): Queue length over time. \n",
    "        service_time_mean (float): Mean service time\n",
    "    \"\"\"\n",
    "    \n",
    "    ###\n",
    "    #ADD YOUR CODE HERE\n",
    "    ###"
   ]
  },
  {
   "cell_type": "code",
   "execution_count": null,
   "metadata": {},
   "outputs": [],
   "source": [
    "#Requested precision for the estimation of the average maximum queue length. \n",
    "#Empirically calculated such that approximately 100 simulation runs are necessary.\n",
    "precision = 0.5\n",
    "\n",
    "###\n",
    "#ADD YOUR CODE HERE\n",
    "###\n",
    "\n",
    "sd_control = np.sqrt(max_queue_var_control_all)"
   ]
  },
  {
   "cell_type": "code",
   "execution_count": null,
   "metadata": {},
   "outputs": [],
   "source": [
    "fig = plt.figure()\n",
    "ax = plt.subplot(1,1,1)\n",
    "\n",
    "ax.plot(sd_independent, label='Std. dev. - independent runs')\n",
    "ax.plot(sd_control, label='Std. dev. - controlled runs')\n",
    "ax.set(title='Queue simulation',\n",
    "       xlabel='Epoch',\n",
    "       ylabel='Max. queue length')\n",
    "ax.legend()\n",
    "fig.savefig('figure_control_variates.pdf', dpi=300)\n",
    "plt.show()"
   ]
  },
  {
   "cell_type": "code",
   "execution_count": null,
   "metadata": {},
   "outputs": [],
   "source": []
  }
 ],
 "metadata": {
  "kernelspec": {
   "display_name": "Python 3",
   "language": "python",
   "name": "python3"
  },
  "language_info": {
   "codemirror_mode": {
    "name": "ipython",
    "version": 3
   },
   "file_extension": ".py",
   "mimetype": "text/x-python",
   "name": "python",
   "nbconvert_exporter": "python",
   "pygments_lexer": "ipython3",
   "version": "3.7.6"
  }
 },
 "nbformat": 4,
 "nbformat_minor": 2
}
