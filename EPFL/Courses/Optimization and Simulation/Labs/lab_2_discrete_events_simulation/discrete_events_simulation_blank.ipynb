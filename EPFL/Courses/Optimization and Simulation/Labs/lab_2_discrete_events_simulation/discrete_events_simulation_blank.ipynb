{
 "cells": [
  {
   "cell_type": "code",
   "execution_count": null,
   "metadata": {},
   "outputs": [],
   "source": [
    "import numpy as np\n",
    "import matplotlib.pyplot as plt"
   ]
  },
  {
   "cell_type": "markdown",
   "metadata": {},
   "source": [
    "# Queueing simulation\n",
    "## Exponential random draws"
   ]
  },
  {
   "cell_type": "code",
   "execution_count": null,
   "metadata": {},
   "outputs": [],
   "source": [
    "def exponential_rng(lam=1.0):  \n",
    "    \"\"\" Generates exponential random number.\n",
    "    \n",
    "    Keywords:\n",
    "        lam (float): the rate parameter, the inverse expectation of the distribution.\n",
    "    \n",
    "    Returns:\n",
    "        exponential random number with given rate.\n",
    "    \"\"\"\n",
    "    return -np.log(np.random.rand()) / lam"
   ]
  },
  {
   "cell_type": "markdown",
   "metadata": {},
   "source": [
    "## Define events"
   ]
  },
  {
   "cell_type": "code",
   "execution_count": null,
   "metadata": {},
   "outputs": [],
   "source": [
    "######\n",
    "#ADD YOUR CODE HERE.\n",
    "######"
   ]
  },
  {
   "cell_type": "markdown",
   "metadata": {},
   "source": [
    "## Define scenario"
   ]
  },
  {
   "cell_type": "code",
   "execution_count": null,
   "metadata": {},
   "outputs": [],
   "source": [
    "class Scenario:\n",
    "    \"\"\" Road scenario\n",
    "    \n",
    "    Attributes:\n",
    "        demand duration (float): Duration of vehicle generation.\n",
    "        t0 (float): Free-flow travel time.\n",
    "        lam (float): Entry rate.\n",
    "        mu (float): Service rate.\n",
    "    \"\"\"\n",
    "    \n",
    "    def __init__(self, \n",
    "                 demand_duration=50.0,\n",
    "                 t0=1.0,\n",
    "                 lam=1.0,\n",
    "                 mu=1.0,\n",
    "                ):\n",
    "        self.demand_duration = demand_duration\n",
    "        self.t0 = t0\n",
    "        self.lam = lam\n",
    "        self.mu = mu"
   ]
  },
  {
   "cell_type": "markdown",
   "metadata": {},
   "source": [
    "## Define simulation procedure"
   ]
  },
  {
   "cell_type": "code",
   "execution_count": null,
   "metadata": {},
   "outputs": [],
   "source": [
    "def simulate(scenario):\n",
    "    \"\"\" Implements the simulation procedure.\n",
    "    \n",
    "    Keywords:\n",
    "        scenario (Scenario): Road scenario.\n",
    "    \n",
    "    Returns:\n",
    "        times (list): Event times. \n",
    "        queues (list): Queue length over time. \n",
    "    \"\"\"\n",
    "    \n",
    "    ######\n",
    "    #ADD YOUR CODE HERE.\n",
    "    ######\n",
    "        \n",
    "    return times, queues"
   ]
  },
  {
   "cell_type": "markdown",
   "metadata": {},
   "source": [
    "## Run simulation"
   ]
  },
  {
   "cell_type": "code",
   "execution_count": null,
   "metadata": {},
   "outputs": [],
   "source": [
    "times, queues = simulate(Scenario())"
   ]
  },
  {
   "cell_type": "markdown",
   "metadata": {},
   "source": [
    "## Repeat the simulation multiple times"
   ]
  },
  {
   "cell_type": "code",
   "execution_count": null,
   "metadata": {},
   "outputs": [],
   "source": [
    "D = 3\n",
    "times_queues = [simulate(Scenario()) for d in range(D)]"
   ]
  },
  {
   "cell_type": "code",
   "execution_count": null,
   "metadata": {},
   "outputs": [],
   "source": [
    "fig = plt.figure()\n",
    "ax = plt.subplot(1,1,1)\n",
    "\n",
    "for t, q in times_queues:\n",
    "    ax.plot(t, q)\n",
    "ax.set(title='Queue simulation',\n",
    "       xlabel='Time',\n",
    "       ylabel='Queue length')\n",
    "fig.savefig('figure_queue_simulation.pdf', dpi=300)\n",
    "plt.show()"
   ]
  }
 ],
 "metadata": {
  "kernelspec": {
   "display_name": "Python 3",
   "language": "python",
   "name": "python3"
  },
  "language_info": {
   "codemirror_mode": {
    "name": "ipython",
    "version": 3
   },
   "file_extension": ".py",
   "mimetype": "text/x-python",
   "name": "python",
   "nbconvert_exporter": "python",
   "pygments_lexer": "ipython3",
   "version": "3.7.6"
  }
 },
 "nbformat": 4,
 "nbformat_minor": 2
}
